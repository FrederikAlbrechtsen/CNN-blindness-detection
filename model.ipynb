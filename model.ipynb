{
  "cells": [
    {
      "cell_type": "code",
      "execution_count": 1,
      "metadata": {
        "id": "G-YK5vSVlOmG"
      },
      "outputs": [],
      "source": [
        "from google.colab import drive\n",
        "from keras import backend as K\n",
        "from keras import optimizers, regularizers\n",
        "from keras.layers import Activation, Dropout, Flatten, Dense, ZeroPadding2D, GaussianDropout, Conv2D, MaxPooling2D\n",
        "from keras.models import Sequential\n",
        "from keras.constraints import maxnorm\n",
        "from keras.preprocessing.image import ImageDataGenerator\n",
        "from keras.utils import np_utils\n",
        "from keras.utils.np_utils import to_categorical\n",
        "from sklearn.metrics import accuracy_score, classification_report,confusion_matrix\n",
        "from sklearn.model_selection import train_test_split\n",
        "from tensorflow.keras.callbacks import ModelCheckpoint, EarlyStopping\n",
        "from tensorflow.keras.utils import img_to_array\n",
        "from tqdm import tqdm\n",
        "from zipfile import ZipFile\n",
        "import cv2\n",
        "import itertools\n",
        "import matplotlib.pyplot as plt\n",
        "import numpy as np\n",
        "import os\n",
        "import pandas as pd"
      ]
    },
    {
      "cell_type": "code",
      "execution_count": 3,
      "metadata": {
        "id": "UOxKSB36tzJl"
      },
      "outputs": [],
      "source": [
        "base_dir = \"/blindness-detection/data/\""
      ]
    },
    {
      "cell_type": "code",
      "execution_count": 11,
      "metadata": {
        "id": "sODQKo7SGPfu"
      },
      "outputs": [],
      "source": [
        "dataset = []\n",
        "labels = []\n",
        "\n",
        "\n",
        "def preprocess_img(label,path):\n",
        "  img = cv2.imread(path,cv2.IMREAD_COLOR)\n",
        "  img_array = img_to_array(img)\n",
        "  img_array = img_array/255\n",
        "  dataset.append(img_array)\n",
        "  labels.append(str(label))\n",
        "\n",
        "\n",
        "def preprocess_data():\n",
        "  train_data = pd.read_csv(base_dir +\"/train.csv\")\n",
        "  train_data.head()\n",
        "\n",
        "  id_code_data = train_data['id_code']\n",
        "  diagnosis_data = train_data['diagnosis']\n",
        "\n",
        "  for id_code,diagnosis in tqdm(zip(id_code_data,diagnosis_data)):\n",
        "    path = os.path.join(base_dir+'train','{}.png'.format(id_code))\n",
        "    preprocess_img(diagnosis,path)\n",
        "    \n",
        "  id_code_data = train_data['id_code']\n",
        "  diagnosis_data = train_data['diagnosis']\n",
        "\n",
        "  images = np.array(dataset)\n",
        "  label_arr = np.array(labels)\n",
        "\n",
        "  x_train,x_test,y_train,y_test = train_test_split(images,label_arr,test_size=0.20,random_state=42)\n",
        "\n",
        "  y_train = np_utils.to_categorical(y_train, num_classes=5)\n",
        "  y_test = np_utils.to_categorical(y_test, num_classes=5)\n",
        "\n",
        "  return x_train, x_test, y_train, y_test"
      ]
    },
    {
      "cell_type": "code",
      "execution_count": 12,
      "metadata": {
        "colab": {
          "base_uri": "https://localhost:8080/"
        },
        "id": "4BryZZNjJFB9",
        "outputId": "596b78df-ab25-4698-9436-7e37b5abf4d2"
      },
      "outputs": [
        {
          "name": "stderr",
          "output_type": "stream",
          "text": [
            "3662it [00:08, 424.41it/s]\n"
          ]
        }
      ],
      "source": [
        "x_train, x_test, y_train, y_test = preprocess_data()"
      ]
    },
    {
      "cell_type": "code",
      "execution_count": null,
      "metadata": {
        "id": "b0GbdufsKQV8"
      },
      "outputs": [],
      "source": [
        "def build_cnn():\n",
        "\n",
        "  model = Sequential()\n",
        "  model.add(Conv2D(16, (3, 3), input_shape=(50,50,3), activation='relu'))\n",
        "  model.add(MaxPooling2D(pool_size=(2, 2)))\n",
        "  model.add(Conv2D(32, (5, 5), activation='relu'))\n",
        "  model.add(MaxPooling2D(pool_size=(2, 2)))\n",
        "  model.add(Conv2D(64, (3, 3), activation='relu'))\n",
        "  model.add(MaxPooling2D(pool_size=(2, 2)))\n",
        "\n",
        "  model.add(Dropout(0.2))\n",
        "  model.add(Flatten())\n",
        "  model.add(Dense(500, activation='relu', kernel_regularizer=regularizers.l2(0.01)))\n",
        "  model.add(Dense(5, activation='softmax'))\n",
        "  \n",
        "  return model\n",
        "\n",
        "model = build_cnn()\n",
        "model.summary()"
      ]
    },
    {
      "cell_type": "code",
      "execution_count": 36,
      "metadata": {
        "colab": {
          "base_uri": "https://localhost:8080/"
        },
        "id": "dsFrHcVsKZTN",
        "outputId": "99e7f077-af53-4315-f1ae-dc8dd249ae9f"
      },
      "outputs": [
        {
          "name": "stderr",
          "output_type": "stream",
          "text": [
            "WARNING:tensorflow:`period` argument is deprecated. Please use `save_freq` to specify the frequency in number of batches seen.\n"
          ]
        },
        {
          "name": "stdout",
          "output_type": "stream",
          "text": [
            "Epoch 1/50\n",
            "92/92 [==============================] - ETA: 0s - loss: 2.7062 - accuracy: 0.5930\n",
            "Epoch 1: val_accuracy improved from -inf to 0.71214, saving model to cnn.h5\n",
            "92/92 [==============================] - 11s 111ms/step - loss: 2.7062 - accuracy: 0.5930 - val_loss: 0.9969 - val_accuracy: 0.7121\n",
            "Epoch 2/50\n",
            "92/92 [==============================] - ETA: 0s - loss: 0.9237 - accuracy: 0.6955\n",
            "Epoch 2: val_accuracy did not improve from 0.71214\n",
            "92/92 [==============================] - 10s 104ms/step - loss: 0.9237 - accuracy: 0.6955 - val_loss: 0.9075 - val_accuracy: 0.7067\n",
            "Epoch 3/50\n",
            "92/92 [==============================] - ETA: 0s - loss: 0.8719 - accuracy: 0.7002\n",
            "Epoch 3: val_accuracy did not improve from 0.71214\n",
            "92/92 [==============================] - 10s 105ms/step - loss: 0.8719 - accuracy: 0.7002 - val_loss: 0.8942 - val_accuracy: 0.6862\n",
            "Epoch 4/50\n",
            "92/92 [==============================] - ETA: 0s - loss: 0.8310 - accuracy: 0.7129\n",
            "Epoch 4: val_accuracy improved from 0.71214 to 0.72851, saving model to cnn.h5\n",
            "92/92 [==============================] - 10s 108ms/step - loss: 0.8310 - accuracy: 0.7129 - val_loss: 0.8083 - val_accuracy: 0.7285\n",
            "Epoch 5/50\n",
            "92/92 [==============================] - ETA: 0s - loss: 0.8105 - accuracy: 0.7177\n",
            "Epoch 5: val_accuracy improved from 0.72851 to 0.73806, saving model to cnn.h5\n",
            "92/92 [==============================] - 10s 105ms/step - loss: 0.8105 - accuracy: 0.7177 - val_loss: 0.8211 - val_accuracy: 0.7381\n",
            "Epoch 6/50\n",
            "92/92 [==============================] - ETA: 0s - loss: 0.7985 - accuracy: 0.7187\n",
            "Epoch 6: val_accuracy did not improve from 0.73806\n",
            "92/92 [==============================] - 10s 104ms/step - loss: 0.7985 - accuracy: 0.7187 - val_loss: 0.7822 - val_accuracy: 0.7312\n",
            "Epoch 7/50\n",
            "92/92 [==============================] - ETA: 0s - loss: 0.7866 - accuracy: 0.7221\n",
            "Epoch 7: val_accuracy did not improve from 0.73806\n",
            "92/92 [==============================] - 10s 107ms/step - loss: 0.7866 - accuracy: 0.7221 - val_loss: 0.7917 - val_accuracy: 0.7367\n",
            "Epoch 8/50\n",
            "92/92 [==============================] - ETA: 0s - loss: 0.7889 - accuracy: 0.7214\n",
            "Epoch 8: val_accuracy improved from 0.73806 to 0.74079, saving model to cnn.h5\n",
            "92/92 [==============================] - 10s 105ms/step - loss: 0.7889 - accuracy: 0.7214 - val_loss: 0.7841 - val_accuracy: 0.7408\n",
            "Epoch 9/50\n",
            "92/92 [==============================] - ETA: 0s - loss: 0.7778 - accuracy: 0.7255\n",
            "Epoch 9: val_accuracy did not improve from 0.74079\n",
            "92/92 [==============================] - 9s 103ms/step - loss: 0.7778 - accuracy: 0.7255 - val_loss: 0.8096 - val_accuracy: 0.7353\n",
            "Epoch 10/50\n",
            "92/92 [==============================] - ETA: 0s - loss: 0.7768 - accuracy: 0.7313\n",
            "Epoch 10: val_accuracy did not improve from 0.74079\n",
            "92/92 [==============================] - 11s 118ms/step - loss: 0.7768 - accuracy: 0.7313 - val_loss: 0.8287 - val_accuracy: 0.6917\n",
            "Epoch 11/50\n",
            "92/92 [==============================] - ETA: 0s - loss: 0.7863 - accuracy: 0.7248\n",
            "Epoch 11: val_accuracy did not improve from 0.74079\n",
            "92/92 [==============================] - 9s 102ms/step - loss: 0.7863 - accuracy: 0.7248 - val_loss: 0.8022 - val_accuracy: 0.7381\n",
            "Epoch 12/50\n",
            "92/92 [==============================] - ETA: 0s - loss: 0.7779 - accuracy: 0.7269\n",
            "Epoch 12: val_accuracy did not improve from 0.74079\n",
            "92/92 [==============================] - 10s 104ms/step - loss: 0.7779 - accuracy: 0.7269 - val_loss: 0.7811 - val_accuracy: 0.7381\n",
            "Epoch 13/50\n",
            "92/92 [==============================] - ETA: 0s - loss: 0.7670 - accuracy: 0.7228\n",
            "Epoch 13: val_accuracy did not improve from 0.74079\n",
            "92/92 [==============================] - 10s 105ms/step - loss: 0.7670 - accuracy: 0.7228 - val_loss: 0.7786 - val_accuracy: 0.7326\n",
            "Epoch 14/50\n",
            "92/92 [==============================] - ETA: 0s - loss: 0.7640 - accuracy: 0.7252\n",
            "Epoch 14: val_accuracy improved from 0.74079 to 0.74216, saving model to cnn.h5\n",
            "92/92 [==============================] - 10s 105ms/step - loss: 0.7640 - accuracy: 0.7252 - val_loss: 0.7829 - val_accuracy: 0.7422\n",
            "Epoch 15/50\n",
            "92/92 [==============================] - ETA: 0s - loss: 0.7590 - accuracy: 0.7327\n",
            "Epoch 15: val_accuracy did not improve from 0.74216\n",
            "92/92 [==============================] - 14s 155ms/step - loss: 0.7590 - accuracy: 0.7327 - val_loss: 0.7681 - val_accuracy: 0.7381\n",
            "Epoch 16/50\n",
            "92/92 [==============================] - ETA: 0s - loss: 0.7598 - accuracy: 0.7327\n",
            "Epoch 16: val_accuracy did not improve from 0.74216\n",
            "92/92 [==============================] - 10s 107ms/step - loss: 0.7598 - accuracy: 0.7327 - val_loss: 0.7812 - val_accuracy: 0.7367\n",
            "Epoch 17/50\n",
            "92/92 [==============================] - ETA: 0s - loss: 0.7559 - accuracy: 0.7351\n",
            "Epoch 17: val_accuracy improved from 0.74216 to 0.74352, saving model to cnn.h5\n",
            "92/92 [==============================] - 10s 107ms/step - loss: 0.7559 - accuracy: 0.7351 - val_loss: 0.7647 - val_accuracy: 0.7435\n",
            "Epoch 18/50\n",
            "92/92 [==============================] - ETA: 0s - loss: 0.7428 - accuracy: 0.7409\n",
            "Epoch 18: val_accuracy did not improve from 0.74352\n",
            "92/92 [==============================] - 10s 104ms/step - loss: 0.7428 - accuracy: 0.7409 - val_loss: 0.7984 - val_accuracy: 0.7353\n",
            "Epoch 19/50\n",
            "92/92 [==============================] - ETA: 0s - loss: 0.7423 - accuracy: 0.7436\n",
            "Epoch 19: val_accuracy did not improve from 0.74352\n",
            "92/92 [==============================] - 10s 103ms/step - loss: 0.7423 - accuracy: 0.7436 - val_loss: 0.7849 - val_accuracy: 0.7435\n",
            "Epoch 20/50\n",
            "92/92 [==============================] - ETA: 0s - loss: 0.7489 - accuracy: 0.7436\n",
            "Epoch 20: val_accuracy did not improve from 0.74352\n",
            "92/92 [==============================] - 10s 104ms/step - loss: 0.7489 - accuracy: 0.7436 - val_loss: 0.7762 - val_accuracy: 0.7381\n",
            "Epoch 21/50\n",
            "92/92 [==============================] - ETA: 0s - loss: 0.7384 - accuracy: 0.7422\n",
            "Epoch 21: val_accuracy did not improve from 0.74352\n",
            "92/92 [==============================] - 10s 104ms/step - loss: 0.7384 - accuracy: 0.7422 - val_loss: 0.7754 - val_accuracy: 0.7435\n",
            "Epoch 22/50\n",
            "92/92 [==============================] - ETA: 0s - loss: 0.7328 - accuracy: 0.7453\n",
            "Epoch 22: val_accuracy did not improve from 0.74352\n",
            "92/92 [==============================] - 10s 105ms/step - loss: 0.7328 - accuracy: 0.7453 - val_loss: 0.8120 - val_accuracy: 0.7312\n",
            "Epoch 23/50\n",
            "92/92 [==============================] - ETA: 0s - loss: 0.7336 - accuracy: 0.7409\n",
            "Epoch 23: val_accuracy improved from 0.74352 to 0.74488, saving model to cnn.h5\n",
            "92/92 [==============================] - 10s 106ms/step - loss: 0.7336 - accuracy: 0.7409 - val_loss: 0.7629 - val_accuracy: 0.7449\n",
            "Epoch 24/50\n",
            "92/92 [==============================] - ETA: 0s - loss: 0.7250 - accuracy: 0.7388\n",
            "Epoch 24: val_accuracy did not improve from 0.74488\n",
            "92/92 [==============================] - 10s 105ms/step - loss: 0.7250 - accuracy: 0.7388 - val_loss: 0.7782 - val_accuracy: 0.7394\n",
            "Epoch 25/50\n",
            "92/92 [==============================] - ETA: 0s - loss: 0.7260 - accuracy: 0.7443\n",
            "Epoch 25: val_accuracy did not improve from 0.74488\n",
            "92/92 [==============================] - 10s 104ms/step - loss: 0.7260 - accuracy: 0.7443 - val_loss: 0.7740 - val_accuracy: 0.7422\n",
            "Epoch 26/50\n",
            "92/92 [==============================] - ETA: 0s - loss: 0.7134 - accuracy: 0.7566\n",
            "Epoch 26: val_accuracy did not improve from 0.74488\n",
            "92/92 [==============================] - 10s 104ms/step - loss: 0.7134 - accuracy: 0.7566 - val_loss: 0.7580 - val_accuracy: 0.7381\n",
            "Epoch 27/50\n",
            "92/92 [==============================] - ETA: 0s - loss: 0.7229 - accuracy: 0.7508\n",
            "Epoch 27: val_accuracy did not improve from 0.74488\n",
            "92/92 [==============================] - 10s 104ms/step - loss: 0.7229 - accuracy: 0.7508 - val_loss: 0.7912 - val_accuracy: 0.7408\n",
            "Epoch 28/50\n",
            "92/92 [==============================] - ETA: 0s - loss: 0.7090 - accuracy: 0.7497\n",
            "Epoch 28: val_accuracy did not improve from 0.74488\n",
            "92/92 [==============================] - 10s 105ms/step - loss: 0.7090 - accuracy: 0.7497 - val_loss: 0.7576 - val_accuracy: 0.7326\n",
            "Epoch 29/50\n",
            "92/92 [==============================] - ETA: 0s - loss: 0.7196 - accuracy: 0.7535\n",
            "Epoch 29: val_accuracy did not improve from 0.74488\n",
            "92/92 [==============================] - 10s 106ms/step - loss: 0.7196 - accuracy: 0.7535 - val_loss: 0.7658 - val_accuracy: 0.7326\n",
            "Epoch 30/50\n",
            "92/92 [==============================] - ETA: 0s - loss: 0.7036 - accuracy: 0.7559\n",
            "Epoch 30: val_accuracy improved from 0.74488 to 0.75580, saving model to cnn.h5\n",
            "92/92 [==============================] - 10s 105ms/step - loss: 0.7036 - accuracy: 0.7559 - val_loss: 0.7767 - val_accuracy: 0.7558\n",
            "Epoch 31/50\n",
            "92/92 [==============================] - ETA: 0s - loss: 0.7076 - accuracy: 0.7593\n",
            "Epoch 31: val_accuracy did not improve from 0.75580\n",
            "92/92 [==============================] - 10s 104ms/step - loss: 0.7076 - accuracy: 0.7593 - val_loss: 0.7498 - val_accuracy: 0.7422\n",
            "Epoch 32/50\n",
            "92/92 [==============================] - ETA: 0s - loss: 0.6942 - accuracy: 0.7610\n",
            "Epoch 32: val_accuracy did not improve from 0.75580\n",
            "92/92 [==============================] - 9s 103ms/step - loss: 0.6942 - accuracy: 0.7610 - val_loss: 0.7695 - val_accuracy: 0.7422\n",
            "Epoch 33/50\n",
            "92/92 [==============================] - ETA: 0s - loss: 0.7088 - accuracy: 0.7566\n",
            "Epoch 33: val_accuracy did not improve from 0.75580\n",
            "92/92 [==============================] - 9s 103ms/step - loss: 0.7088 - accuracy: 0.7566 - val_loss: 0.8052 - val_accuracy: 0.7271\n",
            "Epoch 34/50\n",
            "92/92 [==============================] - ETA: 0s - loss: 0.6979 - accuracy: 0.7576\n",
            "Epoch 34: val_accuracy did not improve from 0.75580\n",
            "92/92 [==============================] - 10s 104ms/step - loss: 0.6979 - accuracy: 0.7576 - val_loss: 0.7818 - val_accuracy: 0.7422\n",
            "Epoch 35/50\n",
            "92/92 [==============================] - ETA: 0s - loss: 0.6841 - accuracy: 0.7586\n",
            "Epoch 35: val_accuracy did not improve from 0.75580\n",
            "92/92 [==============================] - 10s 104ms/step - loss: 0.6841 - accuracy: 0.7586 - val_loss: 0.7792 - val_accuracy: 0.7367\n",
            "Epoch 36/50\n",
            "92/92 [==============================] - ETA: 0s - loss: 0.6984 - accuracy: 0.7617\n",
            "Epoch 36: val_accuracy did not improve from 0.75580\n",
            "92/92 [==============================] - 9s 103ms/step - loss: 0.6984 - accuracy: 0.7617 - val_loss: 0.7809 - val_accuracy: 0.7544\n",
            "Epoch 37/50\n",
            "92/92 [==============================] - ETA: 0s - loss: 0.6818 - accuracy: 0.7665\n",
            "Epoch 37: val_accuracy did not improve from 0.75580\n",
            "92/92 [==============================] - 10s 104ms/step - loss: 0.6818 - accuracy: 0.7665 - val_loss: 0.9046 - val_accuracy: 0.7149\n",
            "Epoch 38/50\n",
            "92/92 [==============================] - ETA: 0s - loss: 0.6989 - accuracy: 0.7596\n",
            "Epoch 38: val_accuracy did not improve from 0.75580\n",
            "92/92 [==============================] - 9s 103ms/step - loss: 0.6989 - accuracy: 0.7596 - val_loss: 0.7833 - val_accuracy: 0.7422\n",
            "Epoch 39/50\n",
            "92/92 [==============================] - ETA: 0s - loss: 0.6796 - accuracy: 0.7668\n",
            "Epoch 39: val_accuracy did not improve from 0.75580\n",
            "92/92 [==============================] - 10s 104ms/step - loss: 0.6796 - accuracy: 0.7668 - val_loss: 0.7756 - val_accuracy: 0.7381\n",
            "Epoch 40/50\n",
            "92/92 [==============================] - ETA: 0s - loss: 0.6708 - accuracy: 0.7699\n",
            "Epoch 40: val_accuracy did not improve from 0.75580\n",
            "92/92 [==============================] - 10s 104ms/step - loss: 0.6708 - accuracy: 0.7699 - val_loss: 0.7838 - val_accuracy: 0.7449\n",
            "Epoch 40: early stopping\n"
          ]
        }
      ],
      "source": [
        "model.compile(loss='categorical_crossentropy', optimizer='adam', metrics=['accuracy'])\n",
        "checkpoint = ModelCheckpoint(\"cnn.h5\", monitor='val_accuracy', verbose=1, save_best_only=True, save_weights_only=False, mode='auto', period=1)\n",
        "early = EarlyStopping(monitor='val_accuracy', min_delta=0, patience=10, verbose=1, mode='auto')\n",
        "hist = model.fit(x_train,y_train,batch_size=32,epochs=50, validation_data=(x_test, y_test), callbacks=[checkpoint, early])"
      ]
    },
    {
      "cell_type": "code",
      "execution_count": 37,
      "metadata": {
        "colab": {
          "base_uri": "https://localhost:8080/"
        },
        "id": "i0gEQD4Gy_G0",
        "outputId": "bfaf469f-4da8-40f2-f975-37d10b5dca43"
      },
      "outputs": [
        {
          "name": "stdout",
          "output_type": "stream",
          "text": [
            "23/23 [==============================] - 1s 28ms/step\n",
            "Accuracy:  74.0 %\n"
          ]
        }
      ],
      "source": [
        "pred = model.predict(x_test)\n",
        "score = round(accuracy_score(y_test.argmax(axis=1), pred.argmax(axis=1)),2)\n",
        "print(\"Accuracy: \", score*100,\"%\")"
      ]
    },
    {
      "cell_type": "code",
      "execution_count": 38,
      "metadata": {
        "colab": {
          "base_uri": "https://localhost:8080/"
        },
        "id": "8oJeIMbrKnQ8",
        "outputId": "45bc5260-118f-4e2e-814a-66b9a92ad77f"
      },
      "outputs": [
        {
          "name": "stdout",
          "output_type": "stream",
          "text": [
            "              precision    recall  f1-score   support\n",
            "\n",
            "           0       0.91      0.97      0.94       351\n",
            "           1       0.45      0.32      0.38        68\n",
            "           2       0.60      0.83      0.70       213\n",
            "           3       0.42      0.22      0.29        36\n",
            "           4       1.00      0.02      0.03        65\n",
            "\n",
            "    accuracy                           0.74       733\n",
            "   macro avg       0.68      0.47      0.47       733\n",
            "weighted avg       0.76      0.74      0.70       733\n",
            "\n"
          ]
        }
      ],
      "source": [
        "report = classification_report(y_test.argmax(axis=1), pred.argmax(axis=1))\n",
        "print(report)"
      ]
    },
    {
      "cell_type": "code",
      "execution_count": 40,
      "metadata": {
        "colab": {
          "base_uri": "https://localhost:8080/",
          "height": 295
        },
        "id": "xNvO89slokqO",
        "outputId": "eb6112c3-4379-4862-9fa8-785d0de50968"
      },
      "outputs": [
        {
          "data": {
            "image/png": "[encoded data removed]",
            "text/plain": [
              "<Figure size 432x288 with 1 Axes>"
            ]
          },
          "metadata": {
            "needs_background": "light"
          },
          "output_type": "display_data"
        }
      ],
      "source": [
        "loss_train = hist.history['accuracy']\n",
        "loss_val = hist.history['val_accuracy']\n",
        "epochs = range(1,41)\n",
        "plt.plot(epochs, loss_train, 'g', label='Training accuracy')\n",
        "plt.plot(epochs, loss_val, 'b', label='validation accuracy')\n",
        "plt.title('Training and Validation accuracy')\n",
        "plt.xlabel('Epochs')\n",
        "plt.ylabel('Accuracy')\n",
        "plt.legend()\n",
        "plt.show()"
      ]
    }
  ],
  "metadata": {
    "colab": {
      "provenance": []
    },
    "kernelspec": {
      "display_name": "Python 3",
      "name": "python3"
    },
    "language_info": {
      "name": "python"
    }
  },
  "nbformat": 4,
  "nbformat_minor": 0
}
