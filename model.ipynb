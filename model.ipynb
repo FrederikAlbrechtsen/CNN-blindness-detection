{
  "cells": [
    {
      "cell_type": "code",
      "execution_count": 56,
      "metadata": {
        "id": "G-YK5vSVlOmG"
      },
      "outputs": [],
      "source": [
        "from keras import backend as K\n",
        "from keras import optimizers, regularizers\n",
        "from keras.layers import Activation, Dropout, Flatten, Dense, ZeroPadding2D, GaussianDropout, Conv2D, MaxPooling2D\n",
        "from keras.models import Sequential\n",
        "from keras.constraints import maxnorm\n",
        "from keras.preprocessing.image import ImageDataGenerator\n",
        "from keras.utils import np_utils\n",
        "from keras.utils.np_utils import to_categorical\n",
        "from sklearn.metrics import accuracy_score, classification_report,confusion_matrix\n",
        "from sklearn.model_selection import train_test_split\n",
        "from tensorflow.keras.callbacks import ModelCheckpoint, EarlyStopping\n",
        "from tensorflow.keras.utils import img_to_array\n",
        "from tqdm import tqdm\n",
        "from zipfile import ZipFile\n",
        "import cv2\n",
        "import itertools\n",
        "import matplotlib.pyplot as plt\n",
        "import numpy as np\n",
        "import os\n",
        "import pandas as pd"
      ]
    },
    {
      "cell_type": "code",
      "execution_count": null,
      "metadata": {
        "id": "UOxKSB36tzJl"
      },
      "outputs": [],
      "source": [
        "base_dir = \"/blindness-detection/data/\""
      ]
    },
    {
      "cell_type": "code",
      "execution_count": null,
      "metadata": {
        "id": "sODQKo7SGPfu"
      },
      "outputs": [],
      "source": [
        "dataset = []\n",
        "labels = []\n",
        "\n",
        "\n",
        "def preprocess_img(label,path):\n",
        "  img = cv2.imread(path,cv2.IMREAD_COLOR)\n",
        "  img_array = img_to_array(img)\n",
        "  img_array = img_array/255\n",
        "  dataset.append(img_array)\n",
        "  labels.append(str(label))\n",
        "\n",
        "\n",
        "def preprocess_data():\n",
        "  train_data = pd.read_csv(base_dir +\"/train.csv\")\n",
        "  train_data.head()\n",
        "\n",
        "  id_code_data = train_data['id_code']\n",
        "  diagnosis_data = train_data['diagnosis']\n",
        "\n",
        "  for id_code,diagnosis in tqdm(zip(id_code_data,diagnosis_data)):\n",
        "    path = os.path.join(base_dir+'train','{}.png'.format(id_code))\n",
        "    preprocess_img(diagnosis,path)\n",
        "    \n",
        "  id_code_data = train_data['id_code']\n",
        "  diagnosis_data = train_data['diagnosis']\n",
        "\n",
        "  images = np.array(dataset)\n",
        "  label_arr = np.array(labels)\n",
        "\n",
        "  x_train,x_test,y_train,y_test = train_test_split(images,label_arr,test_size=0.10,random_state=42)\n",
        "\n",
        "  y_train = np_utils.to_categorical(y_train, num_classes=5)\n",
        "  y_test = np_utils.to_categorical(y_test, num_classes=5)\n",
        "\n",
        "  return x_train, x_test, y_train, y_test"
      ]
    },
    {
      "cell_type": "code",
      "execution_count": null,
      "metadata": {
        "colab": {
          "base_uri": "https://localhost:8080/"
        },
        "id": "4BryZZNjJFB9",
        "outputId": "9653ea95-bbb5-4da4-8937-234da5c5547e"
      },
      "outputs": [
        {
          "name": "stderr",
          "output_type": "stream",
          "text": [
            "3662it [00:09, 371.19it/s]\n"
          ]
        }
      ],
      "source": [
        "x_train, x_test, y_train, y_test = preprocess_data()"
      ]
    },
    {
      "cell_type": "code",
      "execution_count": 64,
      "metadata": {
        "colab": {
          "base_uri": "https://localhost:8080/"
        },
        "id": "b0GbdufsKQV8",
        "outputId": "84f81df3-d3cc-4658-dd09-5246c7378289"
      },
      "outputs": [
        {
          "name": "stdout",
          "output_type": "stream",
          "text": [
            "Model: \"sequential_12\"\n",
            "_________________________________________________________________\n",
            " Layer (type)                Output Shape              Param #   \n",
            "=================================================================\n",
            " conv2d_37 (Conv2D)          (None, 48, 48, 16)        448       \n",
            "                                                                 \n",
            " max_pooling2d_27 (MaxPoolin  (None, 24, 24, 16)       0         \n",
            " g2D)                                                            \n",
            "                                                                 \n",
            " conv2d_38 (Conv2D)          (None, 20, 20, 32)        12832     \n",
            "                                                                 \n",
            " max_pooling2d_28 (MaxPoolin  (None, 10, 10, 32)       0         \n",
            " g2D)                                                            \n",
            "                                                                 \n",
            " conv2d_39 (Conv2D)          (None, 8, 8, 64)          18496     \n",
            "                                                                 \n",
            " max_pooling2d_29 (MaxPoolin  (None, 4, 4, 64)         0         \n",
            " g2D)                                                            \n",
            "                                                                 \n",
            " dropout_8 (Dropout)         (None, 4, 4, 64)          0         \n",
            "                                                                 \n",
            " flatten_8 (Flatten)         (None, 1024)              0         \n",
            "                                                                 \n",
            " dense_31 (Dense)            (None, 128)               131200    \n",
            "                                                                 \n",
            " dense_32 (Dense)            (None, 64)                8256      \n",
            "                                                                 \n",
            " dense_33 (Dense)            (None, 32)                2080      \n",
            "                                                                 \n",
            " dense_34 (Dense)            (None, 5)                 165       \n",
            "                                                                 \n",
            "=================================================================\n",
            "Total params: 173,477\n",
            "Trainable params: 173,477\n",
            "Non-trainable params: 0\n",
            "_________________________________________________________________\n"
          ]
        }
      ],
      "source": [
        "def build_cnn():\n",
        "  model = Sequential()\n",
        "  model.add(Conv2D(16, (3, 3), input_shape=[50,50,3], activation='relu'))\n",
        "  model.add(MaxPooling2D(pool_size=(2, 2)))\n",
        "  model.add(Conv2D(32, (5, 5), activation='relu'))\n",
        "  model.add(MaxPooling2D(pool_size=(2, 2)))\n",
        "  model.add(Conv2D(64, (3, 3), activation='relu'))\n",
        "  model.add(MaxPooling2D(pool_size=(2, 2)))\n",
        "\n",
        "  model.add(Dropout(0.2))\n",
        "  model.add(Flatten())\n",
        "  model.add(Dense(128, activation='relu', kernel_regularizer=regularizers.l2(0.01)))\n",
        "  model.add(Dense(64, activation='relu'))\n",
        "  model.add(Dense(32, activation='relu'))\n",
        "  model.add(Dense(5, activation='softmax', kernel_regularizer=regularizers.l2(0.0001)))\n",
        "  \n",
        "  return model\n",
        "\n",
        "model = build_cnn()\n",
        "model.summary()"
      ]
    },
    {
      "cell_type": "code",
      "execution_count": 60,
      "metadata": {
        "colab": {
          "base_uri": "https://localhost:8080/"
        },
        "id": "dsFrHcVsKZTN",
        "outputId": "b195bde4-1981-4867-824d-102964fb8035"
      },
      "outputs": [
        {
          "name": "stderr",
          "output_type": "stream",
          "text": [
            "WARNING:tensorflow:`period` argument is deprecated. Please use `save_freq` to specify the frequency in number of batches seen.\n"
          ]
        },
        {
          "name": "stdout",
          "output_type": "stream",
          "text": [
            "Epoch 1/50\n",
            "496/497 [============================>.] - ETA: 0s - loss: 1.0780 - accuracy: 0.6704\n",
            "Epoch 1: val_accuracy improved from -inf to 0.73144, saving model to cnn.h5\n",
            "497/497 [==============================] - 52s 104ms/step - loss: 1.0776 - accuracy: 0.6705 - val_loss: 0.7839 - val_accuracy: 0.7314\n",
            "Epoch 2/50\n",
            "496/497 [============================>.] - ETA: 0s - loss: 0.7878 - accuracy: 0.7230\n",
            "Epoch 2: val_accuracy did not improve from 0.73144\n",
            "497/497 [==============================] - 49s 99ms/step - loss: 0.7879 - accuracy: 0.7230 - val_loss: 0.7621 - val_accuracy: 0.7246\n",
            "Epoch 3/50\n",
            "496/497 [============================>.] - ETA: 0s - loss: 0.7645 - accuracy: 0.7295\n",
            "Epoch 3: val_accuracy improved from 0.73144 to 0.73938, saving model to cnn.h5\n",
            "497/497 [==============================] - 46s 93ms/step - loss: 0.7644 - accuracy: 0.7295 - val_loss: 0.7456 - val_accuracy: 0.7394\n",
            "Epoch 4/50\n",
            "496/497 [============================>.] - ETA: 0s - loss: 0.7442 - accuracy: 0.7393\n",
            "Epoch 4: val_accuracy improved from 0.73938 to 0.74504, saving model to cnn.h5\n",
            "497/497 [==============================] - 51s 103ms/step - loss: 0.7445 - accuracy: 0.7393 - val_loss: 0.7233 - val_accuracy: 0.7450\n",
            "Epoch 5/50\n",
            "496/497 [============================>.] - ETA: 0s - loss: 0.7310 - accuracy: 0.7412\n",
            "Epoch 5: val_accuracy improved from 0.74504 to 0.75297, saving model to cnn.h5\n",
            "497/497 [==============================] - 46s 93ms/step - loss: 0.7311 - accuracy: 0.7411 - val_loss: 0.7011 - val_accuracy: 0.7530\n",
            "Epoch 6/50\n",
            "496/497 [============================>.] - ETA: 0s - loss: 0.7128 - accuracy: 0.7509\n",
            "Epoch 6: val_accuracy improved from 0.75297 to 0.76204, saving model to cnn.h5\n",
            "497/497 [==============================] - 46s 93ms/step - loss: 0.7130 - accuracy: 0.7508 - val_loss: 0.6823 - val_accuracy: 0.7620\n",
            "Epoch 7/50\n",
            "496/497 [============================>.] - ETA: 0s - loss: 0.6979 - accuracy: 0.7577\n",
            "Epoch 7: val_accuracy improved from 0.76204 to 0.77054, saving model to cnn.h5\n",
            "497/497 [==============================] - 47s 94ms/step - loss: 0.6981 - accuracy: 0.7577 - val_loss: 0.6542 - val_accuracy: 0.7705\n",
            "Epoch 8/50\n",
            "496/497 [============================>.] - ETA: 0s - loss: 0.6737 - accuracy: 0.7686\n",
            "Epoch 8: val_accuracy improved from 0.77054 to 0.78754, saving model to cnn.h5\n",
            "497/497 [==============================] - 48s 96ms/step - loss: 0.6735 - accuracy: 0.7686 - val_loss: 0.6350 - val_accuracy: 0.7875\n",
            "Epoch 9/50\n",
            "496/497 [============================>.] - ETA: 0s - loss: 0.6487 - accuracy: 0.7817\n",
            "Epoch 9: val_accuracy improved from 0.78754 to 0.78867, saving model to cnn.h5\n",
            "497/497 [==============================] - 50s 101ms/step - loss: 0.6487 - accuracy: 0.7817 - val_loss: 0.6203 - val_accuracy: 0.7887\n",
            "Epoch 10/50\n",
            "496/497 [============================>.] - ETA: 0s - loss: 0.6271 - accuracy: 0.7883\n",
            "Epoch 10: val_accuracy improved from 0.78867 to 0.80170, saving model to cnn.h5\n",
            "497/497 [==============================] - 47s 94ms/step - loss: 0.6269 - accuracy: 0.7885 - val_loss: 0.5920 - val_accuracy: 0.8017\n",
            "Epoch 11/50\n",
            "496/497 [============================>.] - ETA: 0s - loss: 0.6034 - accuracy: 0.7988\n",
            "Epoch 11: val_accuracy improved from 0.80170 to 0.80453, saving model to cnn.h5\n",
            "497/497 [==============================] - 47s 94ms/step - loss: 0.6037 - accuracy: 0.7987 - val_loss: 0.6017 - val_accuracy: 0.8045\n",
            "Epoch 12/50\n",
            "496/497 [============================>.] - ETA: 0s - loss: 0.5708 - accuracy: 0.8157\n",
            "Epoch 12: val_accuracy improved from 0.80453 to 0.82606, saving model to cnn.h5\n",
            "497/497 [==============================] - 47s 94ms/step - loss: 0.5709 - accuracy: 0.8156 - val_loss: 0.5735 - val_accuracy: 0.8261\n",
            "Epoch 13/50\n",
            "496/497 [============================>.] - ETA: 0s - loss: 0.5318 - accuracy: 0.8339\n",
            "Epoch 13: val_accuracy improved from 0.82606 to 0.84759, saving model to cnn.h5\n",
            "497/497 [==============================] - 51s 103ms/step - loss: 0.5320 - accuracy: 0.8337 - val_loss: 0.4937 - val_accuracy: 0.8476\n",
            "Epoch 14/50\n",
            "496/497 [============================>.] - ETA: 0s - loss: 0.5064 - accuracy: 0.8483\n",
            "Epoch 14: val_accuracy did not improve from 0.84759\n",
            "497/497 [==============================] - 47s 94ms/step - loss: 0.5062 - accuracy: 0.8485 - val_loss: 0.5150 - val_accuracy: 0.8414\n",
            "Epoch 15/50\n",
            "497/497 [==============================] - ETA: 0s - loss: 0.4780 - accuracy: 0.8617\n",
            "Epoch 15: val_accuracy improved from 0.84759 to 0.87705, saving model to cnn.h5\n",
            "497/497 [==============================] - 47s 94ms/step - loss: 0.4780 - accuracy: 0.8617 - val_loss: 0.4345 - val_accuracy: 0.8771\n",
            "Epoch 16/50\n",
            "496/497 [============================>.] - ETA: 0s - loss: 0.4549 - accuracy: 0.8737\n",
            "Epoch 16: val_accuracy improved from 0.87705 to 0.89348, saving model to cnn.h5\n",
            "497/497 [==============================] - 50s 100ms/step - loss: 0.4548 - accuracy: 0.8737 - val_loss: 0.4137 - val_accuracy: 0.8935\n",
            "Epoch 17/50\n",
            "496/497 [============================>.] - ETA: 0s - loss: 0.4177 - accuracy: 0.8867\n",
            "Epoch 17: val_accuracy improved from 0.89348 to 0.90538, saving model to cnn.h5\n",
            "497/497 [==============================] - 55s 111ms/step - loss: 0.4176 - accuracy: 0.8867 - val_loss: 0.3876 - val_accuracy: 0.9054\n",
            "Epoch 18/50\n",
            "496/497 [============================>.] - ETA: 0s - loss: 0.3987 - accuracy: 0.8964\n",
            "Epoch 18: val_accuracy did not improve from 0.90538\n",
            "497/497 [==============================] - 49s 99ms/step - loss: 0.3989 - accuracy: 0.8964 - val_loss: 0.3773 - val_accuracy: 0.9020\n",
            "Epoch 19/50\n",
            "496/497 [============================>.] - ETA: 0s - loss: 0.3711 - accuracy: 0.9069\n",
            "Epoch 19: val_accuracy improved from 0.90538 to 0.91728, saving model to cnn.h5\n",
            "497/497 [==============================] - 49s 99ms/step - loss: 0.3713 - accuracy: 0.9068 - val_loss: 0.3473 - val_accuracy: 0.9173\n",
            "Epoch 20/50\n",
            "496/497 [============================>.] - ETA: 0s - loss: 0.3656 - accuracy: 0.9090\n",
            "Epoch 20: val_accuracy improved from 0.91728 to 0.93201, saving model to cnn.h5\n",
            "497/497 [==============================] - 48s 98ms/step - loss: 0.3655 - accuracy: 0.9090 - val_loss: 0.3267 - val_accuracy: 0.9320\n",
            "Epoch 21/50\n",
            "496/497 [============================>.] - ETA: 0s - loss: 0.3428 - accuracy: 0.9197\n",
            "Epoch 21: val_accuracy did not improve from 0.93201\n",
            "497/497 [==============================] - 53s 107ms/step - loss: 0.3431 - accuracy: 0.9197 - val_loss: 0.3199 - val_accuracy: 0.9241\n",
            "Epoch 22/50\n",
            "496/497 [============================>.] - ETA: 0s - loss: 0.3323 - accuracy: 0.9220\n",
            "Epoch 22: val_accuracy improved from 0.93201 to 0.94391, saving model to cnn.h5\n",
            "497/497 [==============================] - 48s 97ms/step - loss: 0.3322 - accuracy: 0.9221 - val_loss: 0.2779 - val_accuracy: 0.9439\n",
            "Epoch 23/50\n",
            "496/497 [============================>.] - ETA: 0s - loss: 0.3218 - accuracy: 0.9270\n",
            "Epoch 23: val_accuracy did not improve from 0.94391\n",
            "497/497 [==============================] - 47s 95ms/step - loss: 0.3218 - accuracy: 0.9270 - val_loss: 0.3042 - val_accuracy: 0.9399\n",
            "Epoch 24/50\n",
            "496/497 [============================>.] - ETA: 0s - loss: 0.3091 - accuracy: 0.9272\n",
            "Epoch 24: val_accuracy improved from 0.94391 to 0.94674, saving model to cnn.h5\n",
            "497/497 [==============================] - 47s 95ms/step - loss: 0.3090 - accuracy: 0.9272 - val_loss: 0.2739 - val_accuracy: 0.9467\n",
            "Epoch 25/50\n",
            "496/497 [============================>.] - ETA: 0s - loss: 0.2965 - accuracy: 0.9347\n",
            "Epoch 25: val_accuracy improved from 0.94674 to 0.95864, saving model to cnn.h5\n",
            "497/497 [==============================] - 48s 96ms/step - loss: 0.2964 - accuracy: 0.9348 - val_loss: 0.2556 - val_accuracy: 0.9586\n",
            "Epoch 26/50\n",
            "496/497 [============================>.] - ETA: 0s - loss: 0.2954 - accuracy: 0.9337\n",
            "Epoch 26: val_accuracy did not improve from 0.95864\n",
            "497/497 [==============================] - 52s 105ms/step - loss: 0.2954 - accuracy: 0.9336 - val_loss: 0.2533 - val_accuracy: 0.9564\n",
            "Epoch 27/50\n",
            "496/497 [============================>.] - ETA: 0s - loss: 0.2874 - accuracy: 0.9388\n",
            "Epoch 27: val_accuracy did not improve from 0.95864\n",
            "497/497 [==============================] - 48s 96ms/step - loss: 0.2875 - accuracy: 0.9387 - val_loss: 0.2497 - val_accuracy: 0.9547\n",
            "Epoch 28/50\n",
            "496/497 [============================>.] - ETA: 0s - loss: 0.2696 - accuracy: 0.9443\n",
            "Epoch 28: val_accuracy improved from 0.95864 to 0.96431, saving model to cnn.h5\n",
            "497/497 [==============================] - 47s 94ms/step - loss: 0.2697 - accuracy: 0.9443 - val_loss: 0.2157 - val_accuracy: 0.9643\n",
            "Epoch 29/50\n",
            "497/497 [==============================] - ETA: 0s - loss: 0.2652 - accuracy: 0.9428\n",
            "Epoch 29: val_accuracy improved from 0.96431 to 0.96884, saving model to cnn.h5\n",
            "497/497 [==============================] - 47s 95ms/step - loss: 0.2652 - accuracy: 0.9428 - val_loss: 0.2219 - val_accuracy: 0.9688\n",
            "Epoch 30/50\n",
            "496/497 [============================>.] - ETA: 0s - loss: 0.2741 - accuracy: 0.9427\n",
            "Epoch 30: val_accuracy improved from 0.96884 to 0.96941, saving model to cnn.h5\n",
            "497/497 [==============================] - 51s 103ms/step - loss: 0.2740 - accuracy: 0.9428 - val_loss: 0.2101 - val_accuracy: 0.9694\n",
            "Epoch 31/50\n",
            "496/497 [============================>.] - ETA: 0s - loss: 0.2554 - accuracy: 0.9462\n",
            "Epoch 31: val_accuracy did not improve from 0.96941\n",
            "497/497 [==============================] - 47s 95ms/step - loss: 0.2553 - accuracy: 0.9462 - val_loss: 0.2137 - val_accuracy: 0.9620\n",
            "Epoch 32/50\n",
            "496/497 [============================>.] - ETA: 0s - loss: 0.2665 - accuracy: 0.9442\n",
            "Epoch 32: val_accuracy improved from 0.96941 to 0.97054, saving model to cnn.h5\n",
            "497/497 [==============================] - 50s 100ms/step - loss: 0.2664 - accuracy: 0.9443 - val_loss: 0.2011 - val_accuracy: 0.9705\n",
            "Epoch 33/50\n",
            "496/497 [============================>.] - ETA: 0s - loss: 0.2555 - accuracy: 0.9486\n",
            "Epoch 33: val_accuracy did not improve from 0.97054\n",
            "497/497 [==============================] - 47s 95ms/step - loss: 0.2555 - accuracy: 0.9486 - val_loss: 0.2264 - val_accuracy: 0.9598\n",
            "Epoch 34/50\n",
            "496/497 [============================>.] - ETA: 0s - loss: 0.2527 - accuracy: 0.9493\n",
            "Epoch 34: val_accuracy did not improve from 0.97054\n",
            "497/497 [==============================] - 47s 95ms/step - loss: 0.2528 - accuracy: 0.9493 - val_loss: 0.1945 - val_accuracy: 0.9694\n",
            "Epoch 35/50\n",
            "496/497 [============================>.] - ETA: 0s - loss: 0.2441 - accuracy: 0.9510\n",
            "Epoch 35: val_accuracy did not improve from 0.97054\n",
            "497/497 [==============================] - 51s 103ms/step - loss: 0.2440 - accuracy: 0.9510 - val_loss: 0.2253 - val_accuracy: 0.9654\n",
            "Epoch 36/50\n",
            "496/497 [============================>.] - ETA: 0s - loss: 0.2425 - accuracy: 0.9511\n",
            "Epoch 36: val_accuracy improved from 0.97054 to 0.97280, saving model to cnn.h5\n",
            "497/497 [==============================] - 47s 94ms/step - loss: 0.2425 - accuracy: 0.9511 - val_loss: 0.1996 - val_accuracy: 0.9728\n",
            "Epoch 37/50\n",
            "496/497 [============================>.] - ETA: 0s - loss: 0.2361 - accuracy: 0.9532\n",
            "Epoch 37: val_accuracy did not improve from 0.97280\n",
            "497/497 [==============================] - 47s 95ms/step - loss: 0.2360 - accuracy: 0.9532 - val_loss: 0.2290 - val_accuracy: 0.9603\n",
            "Epoch 38/50\n",
            "496/497 [============================>.] - ETA: 0s - loss: 0.2479 - accuracy: 0.9500\n",
            "Epoch 38: val_accuracy did not improve from 0.97280\n",
            "497/497 [==============================] - 47s 95ms/step - loss: 0.2478 - accuracy: 0.9500 - val_loss: 0.2188 - val_accuracy: 0.9620\n",
            "Epoch 39/50\n",
            "496/497 [============================>.] - ETA: 0s - loss: 0.2347 - accuracy: 0.9546\n",
            "Epoch 39: val_accuracy did not improve from 0.97280\n",
            "497/497 [==============================] - 47s 95ms/step - loss: 0.2349 - accuracy: 0.9545 - val_loss: 0.2001 - val_accuracy: 0.9677\n",
            "Epoch 40/50\n",
            "496/497 [============================>.] - ETA: 0s - loss: 0.2298 - accuracy: 0.9528\n",
            "Epoch 40: val_accuracy did not improve from 0.97280\n",
            "497/497 [==============================] - 52s 104ms/step - loss: 0.2297 - accuracy: 0.9528 - val_loss: 0.2041 - val_accuracy: 0.9683\n",
            "Epoch 41/50\n",
            "496/497 [============================>.] - ETA: 0s - loss: 0.2329 - accuracy: 0.9563\n",
            "Epoch 41: val_accuracy improved from 0.97280 to 0.97677, saving model to cnn.h5\n",
            "497/497 [==============================] - 47s 95ms/step - loss: 0.2331 - accuracy: 0.9561 - val_loss: 0.1736 - val_accuracy: 0.9768\n",
            "Epoch 42/50\n",
            "496/497 [============================>.] - ETA: 0s - loss: 0.2329 - accuracy: 0.9543\n",
            "Epoch 42: val_accuracy did not improve from 0.97677\n",
            "497/497 [==============================] - 47s 95ms/step - loss: 0.2329 - accuracy: 0.9544 - val_loss: 0.1938 - val_accuracy: 0.9728\n",
            "Epoch 43/50\n",
            "496/497 [============================>.] - ETA: 0s - loss: 0.2066 - accuracy: 0.9613\n",
            "Epoch 43: val_accuracy did not improve from 0.97677\n",
            "497/497 [==============================] - 47s 95ms/step - loss: 0.2067 - accuracy: 0.9613 - val_loss: 0.1997 - val_accuracy: 0.9671\n",
            "Epoch 44/50\n",
            "496/497 [============================>.] - ETA: 0s - loss: 0.2178 - accuracy: 0.9578\n",
            "Epoch 44: val_accuracy did not improve from 0.97677\n",
            "497/497 [==============================] - 47s 95ms/step - loss: 0.2177 - accuracy: 0.9578 - val_loss: 0.2005 - val_accuracy: 0.9620\n",
            "Epoch 45/50\n",
            "496/497 [============================>.] - ETA: 0s - loss: 0.2046 - accuracy: 0.9600\n",
            "Epoch 45: val_accuracy did not improve from 0.97677\n",
            "497/497 [==============================] - 51s 103ms/step - loss: 0.2046 - accuracy: 0.9600 - val_loss: 0.1943 - val_accuracy: 0.9683\n",
            "Epoch 46/50\n",
            "496/497 [============================>.] - ETA: 0s - loss: 0.2098 - accuracy: 0.9612\n",
            "Epoch 46: val_accuracy did not improve from 0.97677\n",
            "497/497 [==============================] - 47s 95ms/step - loss: 0.2099 - accuracy: 0.9612 - val_loss: 0.1686 - val_accuracy: 0.9711\n",
            "Epoch 47/50\n",
            "496/497 [============================>.] - ETA: 0s - loss: 0.2080 - accuracy: 0.9599\n",
            "Epoch 47: val_accuracy did not improve from 0.97677\n",
            "497/497 [==============================] - 48s 96ms/step - loss: 0.2080 - accuracy: 0.9599 - val_loss: 0.1720 - val_accuracy: 0.9705\n",
            "Epoch 48/50\n",
            "496/497 [============================>.] - ETA: 0s - loss: 0.2077 - accuracy: 0.9604\n",
            "Epoch 48: val_accuracy did not improve from 0.97677\n",
            "497/497 [==============================] - 48s 96ms/step - loss: 0.2077 - accuracy: 0.9604 - val_loss: 0.1714 - val_accuracy: 0.9756\n",
            "Epoch 49/50\n",
            "496/497 [============================>.] - ETA: 0s - loss: 0.2114 - accuracy: 0.9596\n",
            "Epoch 49: val_accuracy improved from 0.97677 to 0.97734, saving model to cnn.h5\n",
            "497/497 [==============================] - 48s 96ms/step - loss: 0.2114 - accuracy: 0.9596 - val_loss: 0.1818 - val_accuracy: 0.9773\n",
            "Epoch 50/50\n",
            "496/497 [============================>.] - ETA: 0s - loss: 0.2107 - accuracy: 0.9595\n",
            "Epoch 50: val_accuracy did not improve from 0.97734\n",
            "497/497 [==============================] - 52s 104ms/step - loss: 0.2107 - accuracy: 0.9595 - val_loss: 0.1922 - val_accuracy: 0.9654\n"
          ]
        }
      ],
      "source": [
        "model.compile(loss='categorical_crossentropy', optimizer='adam', metrics=['accuracy'])\n",
        "checkpoint = ModelCheckpoint(\"cnn.h5\", monitor='val_accuracy', verbose=1, save_best_only=True, save_weights_only=False, mode='auto', period=1)\n",
        "early = EarlyStopping(monitor='val_loss', min_delta=0, patience=20, verbose=1, mode='auto')\n",
        "hist = model.fit(x_train,y_train,batch_size=32,epochs=50,validation_data=(x_test, y_test), callbacks=[checkpoint, early])"
      ]
    },
    {
      "cell_type": "code",
      "execution_count": 61,
      "metadata": {
        "colab": {
          "base_uri": "https://localhost:8080/"
        },
        "id": "i0gEQD4Gy_G0",
        "outputId": "a7521421-90a4-4b8b-b71c-3613b725fe91"
      },
      "outputs": [
        {
          "name": "stdout",
          "output_type": "stream",
          "text": [
            "56/56 [==============================] - 2s 26ms/step\n",
            "Accuracy:  97.0 %\n"
          ]
        }
      ],
      "source": [
        "pred = model.predict(x_test)\n",
        "score = round(accuracy_score(y_test.argmax(axis=1), pred.argmax(axis=1)),2)\n",
        "print(\"Accuracy: \", score*100,\"%\")"
      ]
    },
    {
      "cell_type": "code",
      "execution_count": 62,
      "metadata": {
        "colab": {
          "base_uri": "https://localhost:8080/"
        },
        "id": "8oJeIMbrKnQ8",
        "outputId": "91f73bc1-9118-4cbe-c633-b672c3f696e3"
      },
      "outputs": [
        {
          "name": "stdout",
          "output_type": "stream",
          "text": [
            "              precision    recall  f1-score   support\n",
            "\n",
            "           0       0.99      0.99      0.99       879\n",
            "           1       0.95      0.93      0.94       188\n",
            "           2       0.93      0.98      0.95       461\n",
            "           3       0.97      0.84      0.90        88\n",
            "           4       0.96      0.89      0.92       149\n",
            "\n",
            "    accuracy                           0.97      1765\n",
            "   macro avg       0.96      0.92      0.94      1765\n",
            "weighted avg       0.97      0.97      0.97      1765\n",
            "\n"
          ]
        }
      ],
      "source": [
        "report = classification_report(y_test.argmax(axis=1), pred.argmax(axis=1))\n",
        "print(report)"
      ]
    },
    {
      "cell_type": "code",
      "execution_count": 63,
      "metadata": {
        "colab": {
          "base_uri": "https://localhost:8080/",
          "height": 295
        },
        "id": "xNvO89slokqO",
        "outputId": "bbc54773-0cbb-4276-ddc4-fa34f15c4caa"
      },
      "outputs": [
        {
          "data": {
            "image/png": "[encoded data removed]",
            "text/plain": [
              "<Figure size 432x288 with 1 Axes>"
            ]
          },
          "metadata": {
            "needs_background": "light"
          },
          "output_type": "display_data"
        }
      ],
      "source": [
        "loss_train = hist.history['accuracy']\n",
        "loss_val = hist.history['val_accuracy']\n",
        "epochs = range(1,51)\n",
        "plt.plot(epochs, loss_train, 'g', label='Training accuracy')\n",
        "plt.plot(epochs, loss_val, 'b', label='validation accuracy')\n",
        "plt.title('Training and Validation accuracy')\n",
        "plt.xlabel('Epochs')\n",
        "plt.ylabel('Accuracy')\n",
        "plt.legend()\n",
        "plt.show()"
      ]
    }
  ],
  "metadata": {
    "colab": {
      "provenance": []
    },
    "kernelspec": {
      "display_name": "Python 3",
      "name": "python3"
    },
    "language_info": {
      "name": "python"
    }
  },
  "nbformat": 4,
  "nbformat_minor": 0
}
